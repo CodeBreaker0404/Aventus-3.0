{
  "nbformat": 4,
  "nbformat_minor": 0,
  "metadata": {
    "colab": {
      "provenance": []
    },
    "kernelspec": {
      "name": "python3",
      "display_name": "Python 3"
    },
    "language_info": {
      "name": "python"
    }
  },
  "cells": [
    {
      "cell_type": "markdown",
      "source": [
        "Installing the Required Libraries"
      ],
      "metadata": {
        "id": "i5kf6JVzbSp9"
      }
    },
    {
      "cell_type": "code",
      "source": [
        "!pip install nibabel nilearn scikit-image scipy pyvista\n"
      ],
      "metadata": {
        "colab": {
          "base_uri": "https://localhost:8080/"
        },
        "id": "rf98dw6VbCoE",
        "outputId": "8088ab39-06a3-4161-c73e-03df4d18a3b5"
      },
      "execution_count": 1,
      "outputs": [
        {
          "output_type": "stream",
          "name": "stdout",
          "text": [
            "Requirement already satisfied: nibabel in /usr/local/lib/python3.11/dist-packages (5.3.2)\n",
            "Collecting nilearn\n",
            "  Downloading nilearn-0.11.1-py3-none-any.whl.metadata (9.3 kB)\n",
            "Requirement already satisfied: scikit-image in /usr/local/lib/python3.11/dist-packages (0.25.2)\n",
            "Requirement already satisfied: scipy in /usr/local/lib/python3.11/dist-packages (1.15.3)\n",
            "Collecting pyvista\n",
            "  Downloading pyvista-0.45.2-py3-none-any.whl.metadata (15 kB)\n",
            "Requirement already satisfied: importlib-resources>=5.12 in /usr/local/lib/python3.11/dist-packages (from nibabel) (6.5.2)\n",
            "Requirement already satisfied: numpy>=1.22 in /usr/local/lib/python3.11/dist-packages (from nibabel) (2.0.2)\n",
            "Requirement already satisfied: packaging>=20 in /usr/local/lib/python3.11/dist-packages (from nibabel) (24.2)\n",
            "Requirement already satisfied: typing-extensions>=4.6 in /usr/local/lib/python3.11/dist-packages (from nibabel) (4.13.2)\n",
            "Requirement already satisfied: joblib>=1.2.0 in /usr/local/lib/python3.11/dist-packages (from nilearn) (1.5.0)\n",
            "Requirement already satisfied: lxml in /usr/local/lib/python3.11/dist-packages (from nilearn) (5.4.0)\n",
            "Requirement already satisfied: pandas>=2.2.0 in /usr/local/lib/python3.11/dist-packages (from nilearn) (2.2.2)\n",
            "Requirement already satisfied: requests>=2.25.0 in /usr/local/lib/python3.11/dist-packages (from nilearn) (2.32.3)\n",
            "Requirement already satisfied: scikit-learn>=1.4.0 in /usr/local/lib/python3.11/dist-packages (from nilearn) (1.6.1)\n",
            "Requirement already satisfied: networkx>=3.0 in /usr/local/lib/python3.11/dist-packages (from scikit-image) (3.4.2)\n",
            "Requirement already satisfied: pillow>=10.1 in /usr/local/lib/python3.11/dist-packages (from scikit-image) (11.2.1)\n",
            "Requirement already satisfied: imageio!=2.35.0,>=2.33 in /usr/local/lib/python3.11/dist-packages (from scikit-image) (2.37.0)\n",
            "Requirement already satisfied: tifffile>=2022.8.12 in /usr/local/lib/python3.11/dist-packages (from scikit-image) (2025.5.10)\n",
            "Requirement already satisfied: lazy-loader>=0.4 in /usr/local/lib/python3.11/dist-packages (from scikit-image) (0.4)\n",
            "Requirement already satisfied: matplotlib>=3.0.1 in /usr/local/lib/python3.11/dist-packages (from pyvista) (3.10.0)\n",
            "Requirement already satisfied: pooch in /usr/local/lib/python3.11/dist-packages (from pyvista) (1.8.2)\n",
            "Requirement already satisfied: scooby>=0.5.1 in /usr/local/lib/python3.11/dist-packages (from pyvista) (0.10.1)\n",
            "Collecting vtk!=9.4.0 (from pyvista)\n",
            "  Downloading vtk-9.4.2-cp311-cp311-manylinux_2_17_x86_64.manylinux2014_x86_64.whl.metadata (5.5 kB)\n",
            "Requirement already satisfied: contourpy>=1.0.1 in /usr/local/lib/python3.11/dist-packages (from matplotlib>=3.0.1->pyvista) (1.3.2)\n",
            "Requirement already satisfied: cycler>=0.10 in /usr/local/lib/python3.11/dist-packages (from matplotlib>=3.0.1->pyvista) (0.12.1)\n",
            "Requirement already satisfied: fonttools>=4.22.0 in /usr/local/lib/python3.11/dist-packages (from matplotlib>=3.0.1->pyvista) (4.58.0)\n",
            "Requirement already satisfied: kiwisolver>=1.3.1 in /usr/local/lib/python3.11/dist-packages (from matplotlib>=3.0.1->pyvista) (1.4.8)\n",
            "Requirement already satisfied: pyparsing>=2.3.1 in /usr/local/lib/python3.11/dist-packages (from matplotlib>=3.0.1->pyvista) (3.2.3)\n",
            "Requirement already satisfied: python-dateutil>=2.7 in /usr/local/lib/python3.11/dist-packages (from matplotlib>=3.0.1->pyvista) (2.9.0.post0)\n",
            "Requirement already satisfied: pytz>=2020.1 in /usr/local/lib/python3.11/dist-packages (from pandas>=2.2.0->nilearn) (2025.2)\n",
            "Requirement already satisfied: tzdata>=2022.7 in /usr/local/lib/python3.11/dist-packages (from pandas>=2.2.0->nilearn) (2025.2)\n",
            "Requirement already satisfied: charset-normalizer<4,>=2 in /usr/local/lib/python3.11/dist-packages (from requests>=2.25.0->nilearn) (3.4.2)\n",
            "Requirement already satisfied: idna<4,>=2.5 in /usr/local/lib/python3.11/dist-packages (from requests>=2.25.0->nilearn) (3.10)\n",
            "Requirement already satisfied: urllib3<3,>=1.21.1 in /usr/local/lib/python3.11/dist-packages (from requests>=2.25.0->nilearn) (2.4.0)\n",
            "Requirement already satisfied: certifi>=2017.4.17 in /usr/local/lib/python3.11/dist-packages (from requests>=2.25.0->nilearn) (2025.4.26)\n",
            "Requirement already satisfied: threadpoolctl>=3.1.0 in /usr/local/lib/python3.11/dist-packages (from scikit-learn>=1.4.0->nilearn) (3.6.0)\n",
            "Requirement already satisfied: platformdirs>=2.5.0 in /usr/local/lib/python3.11/dist-packages (from pooch->pyvista) (4.3.8)\n",
            "Requirement already satisfied: six>=1.5 in /usr/local/lib/python3.11/dist-packages (from python-dateutil>=2.7->matplotlib>=3.0.1->pyvista) (1.17.0)\n",
            "Downloading nilearn-0.11.1-py3-none-any.whl (10.5 MB)\n",
            "\u001b[2K   \u001b[90m━━━━━━━━━━━━━━━━━━━━━━━━━━━━━━━━━━━━━━━━\u001b[0m \u001b[32m10.5/10.5 MB\u001b[0m \u001b[31m14.6 MB/s\u001b[0m eta \u001b[36m0:00:00\u001b[0m\n",
            "\u001b[?25hDownloading pyvista-0.45.2-py3-none-any.whl (2.4 MB)\n",
            "\u001b[2K   \u001b[90m━━━━━━━━━━━━━━━━━━━━━━━━━━━━━━━━━━━━━━━━\u001b[0m \u001b[32m2.4/2.4 MB\u001b[0m \u001b[31m79.3 MB/s\u001b[0m eta \u001b[36m0:00:00\u001b[0m\n",
            "\u001b[?25hDownloading vtk-9.4.2-cp311-cp311-manylinux_2_17_x86_64.manylinux2014_x86_64.whl (105.0 MB)\n",
            "\u001b[2K   \u001b[90m━━━━━━━━━━━━━━━━━━━━━━━━━━━━━━━━━━━━━━━━\u001b[0m \u001b[32m105.0/105.0 MB\u001b[0m \u001b[31m9.7 MB/s\u001b[0m eta \u001b[36m0:00:00\u001b[0m\n",
            "\u001b[?25hInstalling collected packages: vtk, nilearn, pyvista\n",
            "Successfully installed nilearn-0.11.1 pyvista-0.45.2 vtk-9.4.2\n"
          ]
        }
      ]
    },
    {
      "cell_type": "markdown",
      "source": [
        "Code for the 3D Brain images in form of .ply"
      ],
      "metadata": {
        "id": "jpUW9KXqbW6i"
      }
    },
    {
      "cell_type": "code",
      "execution_count": 2,
      "metadata": {
        "colab": {
          "base_uri": "https://localhost:8080/"
        },
        "id": "dCPUBRMPa9NO",
        "outputId": "2223408e-2c8e-48a2-ff6a-21d902a19646"
      },
      "outputs": [
        {
          "output_type": "stream",
          "name": "stdout",
          "text": [
            "✅ Exported with internal cracks filled and outer surface/tumor preserved:\n",
            "🧠 Full model → /content/brain_with_tumor_vessels.ply\n",
            "🎯 Tumor only → /content/tumor_only.ply\n"
          ]
        }
      ],
      "source": [
        "# ✅ Imports\n",
        "import os, nibabel as nib, numpy as np\n",
        "from nilearn.image import crop_img, resample_to_img\n",
        "from scipy.ndimage import gaussian_filter, binary_fill_holes\n",
        "from skimage import measure, morphology\n",
        "from skimage.filters import threshold_li\n",
        "from skimage.measure import label, regionprops\n",
        "import pyvista as pv\n",
        "\n",
        "# --- Load paths ---\n",
        "flair_path = '/content/BraTS20_Training_001_flair.nii'\n",
        "seg_path = '/content/BraTS20_Training_001_seg.nii'\n",
        "\n",
        "# --- Load and crop images ---\n",
        "flair_img = nib.load(flair_path)\n",
        "seg_img = nib.load(seg_path)\n",
        "cropped_flair_img = crop_img(flair_img)\n",
        "flair_data = cropped_flair_img.get_fdata()\n",
        "affine = cropped_flair_img.affine\n",
        "cropped_seg_img = resample_to_img(seg_img, cropped_flair_img, interpolation='nearest')\n",
        "seg_data = cropped_seg_img.get_fdata()\n",
        "\n",
        "# --- Normalize and smooth FLAIR data ---\n",
        "p2, p98 = np.percentile(flair_data, (2, 98))\n",
        "flair_data = np.clip(flair_data, p2, p98)\n",
        "flair_data = (flair_data - p2) / (p98 - p2)\n",
        "smoothed = gaussian_filter(flair_data, sigma=1.0)\n",
        "\n",
        "# --- Brain mask ---\n",
        "threshold_val = threshold_li(smoothed)\n",
        "initial_mask = smoothed > threshold_val\n",
        "cleaned = morphology.binary_opening(initial_mask, morphology.ball(2))\n",
        "cleaned = morphology.binary_closing(cleaned, morphology.ball(3))\n",
        "cleaned = binary_fill_holes(cleaned)\n",
        "labels = label(cleaned)\n",
        "regions = regionprops(labels)\n",
        "brain_mask = labels == max(regions, key=lambda x: x.area).label if regions else cleaned\n",
        "\n",
        "# --- Preserve original brain_mask for surface ---\n",
        "outer_brain_mask = brain_mask.copy()\n",
        "\n",
        "# --- Fill only internal holes (not surface smoothing) ---\n",
        "# Erode then dilate to preserve surface, only smooth interior\n",
        "internal_fill = morphology.binary_erosion(brain_mask, morphology.ball(2))\n",
        "internal_fill = binary_fill_holes(internal_fill)\n",
        "internal_fill = morphology.binary_dilation(internal_fill, morphology.ball(2))\n",
        "\n",
        "# Merge interior fill with original outer structure\n",
        "brain_mask_filled = outer_brain_mask | internal_fill\n",
        "\n",
        "# --- Tumor mask ---\n",
        "tumor_mask = np.isin(seg_data.astype(int), [1, 2, 4]) & outer_brain_mask\n",
        "tumor_mask = morphology.remove_small_objects(tumor_mask, min_size=30)\n",
        "\n",
        "# --- Vessel mask ---\n",
        "vessel_mask = (smoothed > 0.90) & outer_brain_mask\n",
        "vessel_mask = morphology.remove_small_objects(vessel_mask.astype(bool), min_size=30)\n",
        "\n",
        "# --- Mesh generator ---\n",
        "def get_colored_mesh(mask, color_rgb, smooth_level=15):\n",
        "    verts, faces, _, _ = measure.marching_cubes(mask.astype(np.float32), level=0.5)\n",
        "    faces_vtk = np.hstack([np.full((faces.shape[0], 1), 3), faces]).astype(np.int64).flatten()\n",
        "    mesh = pv.PolyData(verts, faces_vtk)\n",
        "    mesh = mesh.clean(tolerance=1e-5)\n",
        "    mesh = mesh.fill_holes(100.0)  # fill small leftover cracks\n",
        "    mesh = mesh.smooth(n_iter=smooth_level, relaxation_factor=0.1)\n",
        "    colors = np.tile(np.array(color_rgb, dtype=np.uint8), (mesh.n_points, 1))\n",
        "    mesh.point_data['RGB'] = colors\n",
        "    return mesh\n",
        "\n",
        "# --- Create and combine meshes ---\n",
        "brain_mesh = get_colored_mesh(brain_mask_filled.astype(bool), [150, 150, 255])  # Blue\n",
        "vessel_mesh = get_colored_mesh(vessel_mask.astype(bool), [255, 80, 80])         # Red\n",
        "tumor_mesh = get_colored_mesh(tumor_mask.astype(bool), [255, 0, 255])           # Pink\n",
        "\n",
        "full_mesh = brain_mesh + vessel_mesh + tumor_mesh\n",
        "tumor_only_mesh = tumor_mesh\n",
        "\n",
        "# --- Save meshes ---\n",
        "brain_mesh_path = '/content/brain_with_tumor_vessels.ply'\n",
        "tumor_mesh_path = '/content/tumor_only.ply'\n",
        "\n",
        "full_mesh.save(brain_mesh_path)\n",
        "tumor_only_mesh.save(tumor_mesh_path)\n",
        "\n",
        "print(\"✅ Exported with internal cracks filled and outer surface/tumor preserved:\")\n",
        "print(f\"🧠 Full model → {brain_mesh_path}\")\n",
        "print(f\"🎯 Tumor only → {tumor_mesh_path}\")\n"
      ]
    },
    {
      "cell_type": "markdown",
      "source": [
        "After getting the .ply file we have import it into Unity/Blender to view the 3D structure of the Brain and its Tumor."
      ],
      "metadata": {
        "id": "c4Lg84DWb004"
      }
    }
  ]
}